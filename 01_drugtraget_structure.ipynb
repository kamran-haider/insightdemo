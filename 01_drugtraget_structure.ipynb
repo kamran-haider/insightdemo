{
 "cells": [
  {
   "cell_type": "code",
   "execution_count": 2,
   "metadata": {},
   "outputs": [],
   "source": [
    "%reload_ext autoreload\n",
    "%autoreload 2\n",
    "import os\n",
    "import shutil\n",
    "import sys\n",
    "import numpy as np\n",
    "import pandas as pd\n",
    "import nglview as nv\n",
    "import mdtraj as md\n",
    "from sstmap.site_water_analysis import SiteWaterAnalysis\n",
    "from sstmap.utils import write_watpdb_from_coords\n",
    "from insightdemo.utils import format_bytes"
   ]
  },
  {
   "cell_type": "markdown",
   "metadata": {},
   "source": [
    "# What do drug targets look like?"
   ]
  },
  {
   "cell_type": "code",
   "execution_count": 3,
   "metadata": {},
   "outputs": [
    {
     "data": {
      "application/vnd.jupyter.widget-view+json": {
       "model_id": "6c87def3b0b0416a91656b1454e26e1d",
       "version_major": 2,
       "version_minor": 0
      },
      "text/html": [
       "<p>Failed to display Jupyter Widget of type <code>NGLWidget</code>.</p>\n",
       "<p>\n",
       "  If you're reading this message in the Jupyter Notebook or JupyterLab Notebook, it may mean\n",
       "  that the widgets JavaScript is still loading. If this message persists, it\n",
       "  likely means that the widgets JavaScript library is either not installed or\n",
       "  not enabled. See the <a href=\"https://ipywidgets.readthedocs.io/en/stable/user_install.html\">Jupyter\n",
       "  Widgets Documentation</a> for setup instructions.\n",
       "</p>\n",
       "<p>\n",
       "  If you're reading this message in another frontend (for example, a static\n",
       "  rendering on GitHub or <a href=\"https://nbviewer.jupyter.org/\">NBViewer</a>),\n",
       "  it may mean that your frontend doesn't currently support widgets.\n",
       "</p>\n"
      ],
      "text/plain": [
       "NGLWidget()"
      ]
     },
     "metadata": {},
     "output_type": "display_data"
    }
   ],
   "source": [
    "view = nv.show_pdbid(\"1FJS\")\n",
    "view.add_surface(selection=\"protein\", color=\"blue\")\n",
    "# parameters for the NGL stage object\n",
    "view.parameters = {\n",
    "    # \"percentages, \"dist\" is distance too camera in Angstrom\n",
    "    \"clipNear\": 0, \"clipFar\": 100, \"clipDist\": 10,\n",
    "    # percentages, start of fog and where on full effect\n",
    "    \"fogNear\": 0, \"fogFar\": 100,\n",
    "    # background color\n",
    "    \"backgroundColor\": \"black\",\n",
    "}\n",
    "view"
   ]
  },
  {
   "cell_type": "markdown",
   "metadata": {},
   "source": [
    "# Simulating Proteins"
   ]
  },
  {
   "cell_type": "code",
   "execution_count": 4,
   "metadata": {},
   "outputs": [
    {
     "data": {
      "application/vnd.jupyter.widget-view+json": {
       "model_id": "c982438cb0784d549d6113d9729c34a5",
       "version_major": 2,
       "version_minor": 0
      },
      "text/html": [
       "<p>Failed to display Jupyter Widget of type <code>NGLWidget</code>.</p>\n",
       "<p>\n",
       "  If you're reading this message in the Jupyter Notebook or JupyterLab Notebook, it may mean\n",
       "  that the widgets JavaScript is still loading. If this message persists, it\n",
       "  likely means that the widgets JavaScript library is either not installed or\n",
       "  not enabled. See the <a href=\"https://ipywidgets.readthedocs.io/en/stable/user_install.html\">Jupyter\n",
       "  Widgets Documentation</a> for setup instructions.\n",
       "</p>\n",
       "<p>\n",
       "  If you're reading this message in another frontend (for example, a static\n",
       "  rendering on GitHub or <a href=\"https://nbviewer.jupyter.org/\">NBViewer</a>),\n",
       "  it may mean that your frontend doesn't currently support widgets.\n",
       "</p>\n"
      ],
      "text/plain": [
       "NGLWidget(count=100)"
      ]
     },
     "metadata": {},
     "output_type": "display_data"
    }
   ],
   "source": [
    "traj = md.load(\"data/test.trr\", top=\"data/aa2ar.pdb\")\n",
    "view = nv.show_mdtraj(traj)\n",
    "view.add_licorice('water and not hydrogen')\n",
    "view"
   ]
  },
  {
   "cell_type": "markdown",
   "metadata": {},
   "source": [
    "# Data inside simulations"
   ]
  },
  {
   "cell_type": "code",
   "execution_count": 14,
   "metadata": {},
   "outputs": [
    {
     "name": "stdout",
     "output_type": "stream",
     "text": [
      "<mdtraj.Trajectory with 100 frames, 65358 atoms, 15489 residues, and unitcells>\n",
      "156.46 GB\n"
     ]
    }
   ],
   "source": [
    "print(traj)\n",
    "# a more realistics trajectory would contain 100,000 frames\n",
    "a_float = np.float64(-1.5)\n",
    "typical_n_frame = 100000\n",
    "typical_particle_size = 70000\n",
    "dims = 3\n",
    "data_size = a_float.nbytes * typical_n_frame * typical_particle_size * dims\n",
    "print(format_bytes(data_size))"
   ]
  },
  {
   "cell_type": "markdown",
   "metadata": {
    "collapsed": true
   },
   "source": [
    "# Too much complexity? Let's try SSTMap"
   ]
  },
  {
   "cell_type": "code",
   "execution_count": 5,
   "metadata": {},
   "outputs": [
    {
     "name": "stdout",
     "output_type": "stream",
     "text": [
      "Initializing ...\n",
      "Obtaining non-bonded parameters for the system ...\n",
      "Total time running generate_nonbonded_params: 17.38 seconds\n",
      "Done.\n",
      "Assigning hydrogen bond types ...\n",
      "Total time running assign_hb_types: 5.74 seconds\n",
      "Done.\n",
      "Total time running __init__: 36.29 seconds\n",
      "Reading trajectory for clustering.\n",
      "Performing an initial clustering over 10 frames.\n",
      "Reading trajectory to obtain water molecules for each cluster.\n",
      "Refining initial cluster positions by considering 100 frames.\n",
      "Final number of clusters: 33\n",
      "Total time running generate_clusters: 24.01 seconds\n",
      "Total time running initialize_site_data: 0.00 seconds\n",
      "Total time running initialize_hydration_sites: 24.01 seconds\n",
      "System information:\n",
      "\tParameter file: /Users/kamranhaider/Dropbox/insightdemo/data/aa2ar.prmtop\n",
      "\n",
      "\tTrajectory: /Users/kamranhaider/Dropbox/insightdemo/data/md100ps.nc\n",
      "\n",
      "\tTotal Atoms: 65358, Waters: 15186, Solute Atoms: 4614\n",
      "\n",
      "\tNumber of clusters: 33\n",
      "\n",
      "Writing PDB file containing all HSA region water molecules for entropy calculations.\n",
      "Done.\n",
      "Writing PDB files for all water molecules in each hydration site.\n",
      "Done.\n",
      "Total time running generate_data_for_entropycalcs: 0.71 seconds\n",
      "Generating expanded cluster water files...\n",
      "Running entropy calculation from extension module.\n",
      "Total time running run_entropy_scripts: 0.48 seconds\n",
      "Total time running normalize_site_quantities: 0.02 seconds\n",
      "Total time running calculate_site_quantities: 172.81 seconds\n",
      "Total time running write_calculation_summary: 0.01 seconds\n"
     ]
    }
   ],
   "source": [
    "curr_dir = os.path.abspath(\"data/\")\n",
    "data_dir = os.path.join(curr_dir, \"SSTMap_HSA\")\n",
    "\n",
    "if not os.path.exists(data_dir):\n",
    "    os.makedirs(data_dir)\n",
    "else:\n",
    "    shutil.rmtree(data_dir)\n",
    "    os.makedirs(data_dir)\n",
    "\n",
    "top = os.path.join(curr_dir, \"aa2ar.prmtop\")\n",
    "traj = os.path.join(curr_dir, \"md100ps.nc\")\n",
    "start_frame = 0\n",
    "num_frames = 100\n",
    "ligand = os.path.abspath(\"data/ligand.pdb\")\n",
    "os.chdir(data_dir)\n",
    "h = SiteWaterAnalysis(top, traj,\n",
    "                    start_frame=start_frame, num_frames=num_frames,\n",
    "                    ligand_file=ligand, prefix=\"aa2ar\")\n",
    "h.initialize_hydration_sites()\n",
    "h.print_system_summary()\n",
    "h.calculate_site_quantities()\n",
    "h.write_calculation_summary()\n",
    "os.chdir(curr_dir)"
   ]
  },
  {
   "cell_type": "code",
   "execution_count": 9,
   "metadata": {
    "scrolled": true
   },
   "outputs": [
    {
     "data": {
      "application/vnd.jupyter.widget-view+json": {
       "model_id": "1713dbde578c47438d711a8ff52355c0",
       "version_major": 2,
       "version_minor": 0
      },
      "text/html": [
       "<p>Failed to display Jupyter Widget of type <code>NGLWidget</code>.</p>\n",
       "<p>\n",
       "  If you're reading this message in the Jupyter Notebook or JupyterLab Notebook, it may mean\n",
       "  that the widgets JavaScript is still loading. If this message persists, it\n",
       "  likely means that the widgets JavaScript library is either not installed or\n",
       "  not enabled. See the <a href=\"https://ipywidgets.readthedocs.io/en/stable/user_install.html\">Jupyter\n",
       "  Widgets Documentation</a> for setup instructions.\n",
       "</p>\n",
       "<p>\n",
       "  If you're reading this message in another frontend (for example, a static\n",
       "  rendering on GitHub or <a href=\"https://nbviewer.jupyter.org/\">NBViewer</a>),\n",
       "  it may mean that your frontend doesn't currently support widgets.\n",
       "</p>\n"
      ],
      "text/plain": [
       "NGLWidget()"
      ]
     },
     "metadata": {},
     "output_type": "display_data"
    }
   ],
   "source": [
    "os.chdir(\"/Users/kamranhaider/Dropbox/insightdemo/\")\n",
    "result = md.load_pdb(\"data/aa2ar_prot_map.pdb\")\n",
    "view = nv.show_mdtraj(result)\n",
    "view.add_ball_and_stick('water and not hydrogen')\n",
    "view"
   ]
  },
  {
   "cell_type": "code",
   "execution_count": 27,
   "metadata": {},
   "outputs": [
    {
     "name": "stdout",
     "output_type": "stream",
     "text": [
      "index x y z nwat occupancy Esw EswLJ EswElec Eww EwwLJ EwwElec Etot Ewwnbr TSsw_trans TSsw_orient TStot Nnbrs Nhbww Nhbsw Nhbtot f_hb_ww f_enc Acc_ww Don_ww Acc_sw Don_sw solute_acceptors solute_donors\r\n",
      "0 38.37 43.98 54.62 97 0.97 -10.897226 0.449734 -11.346960 -0.986011 0.051487 -1.037497 -11.883237 -0.870463 -0.279239 -2.994422 -3.273662 0.268041 0.134021 3.350515 3.484536 0.134021 0.000000 0.000000 0.134021 1.783505 1.567010 MET170-O,ASN174-OD1 HIS232-ND1,ASN235-ND2\r\n",
      "1 33.81 34.43 63.48 88 0.88 -1.536784 -0.775240 -0.761544 -11.566633 2.274721 -13.841354 -13.103417 -2.396671 -0.864498 -2.836987 -3.701485 3.727273 3.204545 0.875000 4.079545 0.878788 0.000000 1.250000 1.954545 0.875000 0.000000  PHE161-N\r\n",
      "2 30.77 31.88 58.39 86 0.86 -5.226516 -1.095290 -4.131225 -5.470104 0.757426 -6.227531 -10.696620 -2.777529 -1.287546 -1.867580 -3.155125 1.558140 1.546512 1.127907 2.674419 0.994186 0.000000 1.046512 0.500000 0.000000 1.127907 TYR7-OH,ALA61-O \r\n",
      "3 34.44 36.96 64.73 91 0.91 -6.666751 -0.909038 -5.757714 -6.753196 2.322325 -9.075521 -13.419947 -2.185816 -0.926811 -2.601056 -3.527867 3.692308 2.967033 0.912088 3.879121 0.833150 0.000000 1.065934 1.901099 0.912088 0.000000  GLU162-N\r\n",
      "4 31.03 33.67 60.54 91 0.91 -1.053480 -1.005899 -0.047581 -11.504908 2.775332 -14.280240 -12.558388 -2.399957 -1.032313 -2.391420 -3.423733 4.043956 3.516484 0.000000 3.516484 0.875641 0.000000 1.681319 1.835165 0.000000 0.000000  \r\n",
      "5 34.52 35.03 58.40 83 0.83 -1.146559 -0.985787 -0.160772 -10.284905 2.255459 -12.540365 -11.431464 -2.244777 -1.461265 -1.707409 -3.168674 3.686747 3.156627 0.000000 3.156627 0.869277 0.000000 1.361446 1.795181 0.000000 0.000000  \r\n",
      "6 32.61 31.89 64.14 82 0.82 -3.249099 -0.392280 -2.856818 -10.124815 1.918751 -12.043566 -13.373913 -2.482838 -0.855713 -2.974868 -3.830581 3.048780 2.804878 0.926829 3.731707 0.928862 0.000000 1.841463 0.963415 0.000000 0.926829 ILE64-O,CYS159-O \r\n",
      "7 33.26 35.31 60.83 84 0.84 -0.583149 -0.841141 0.257992 -13.241369 3.000001 -16.241369 -13.824518 -2.324110 -1.344163 -2.551915 -3.896078 4.404762 3.952381 0.000000 3.952381 0.909325 0.000000 1.988095 1.964286 0.000000 0.000000  \r\n",
      "8 34.21 33.48 53.83 88 0.88 -3.770572 -0.257599 -3.512973 -9.441814 1.795519 -11.237334 -13.212386 -1.959978 -0.835617 -2.525540 -3.361157 3.829545 2.920455 0.852273 3.772727 0.795265 0.000000 1.954545 0.965909 0.000000 0.852273 HIS260-NE2 \r\n"
     ]
    }
   ],
   "source": [
    "!head data/SSTMap_HSA/aa2ar_hsa_summary.txt"
   ]
  },
  {
   "cell_type": "code",
   "execution_count": null,
   "metadata": {},
   "outputs": [],
   "source": []
  }
 ],
 "metadata": {
  "kernelspec": {
   "display_name": "Python 3",
   "language": "python",
   "name": "python3"
  },
  "language_info": {
   "codemirror_mode": {
    "name": "ipython",
    "version": 3
   },
   "file_extension": ".py",
   "mimetype": "text/x-python",
   "name": "python",
   "nbconvert_exporter": "python",
   "pygments_lexer": "ipython3",
   "version": "3.5.5"
  }
 },
 "nbformat": 4,
 "nbformat_minor": 2
}
