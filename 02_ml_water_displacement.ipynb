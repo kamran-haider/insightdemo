{
 "cells": [
  {
   "cell_type": "code",
   "execution_count": 2,
   "metadata": {
    "collapsed": true
   },
   "outputs": [],
   "source": [
    "import pandas as pd\n",
    "from scipy import stats\n",
    "import matplotlib.pyplot as plt\n",
    "%matplotlib inline"
   ]
  },
  {
   "cell_type": "code",
   "execution_count": 101,
   "metadata": {
    "collapsed": true
   },
   "outputs": [],
   "source": [
    "# create mathy column headers \n",
    "hsa_dataset = pd.read_excel(\"https://ndownloader.figshare.com/files/5324491\", None)\n",
    "data = hsa_dataset[\"All\"]\n",
    "data.rename(columns = {'x':'$x$'}, inplace = True)"
   ]
  },
  {
   "cell_type": "code",
   "execution_count": 102,
   "metadata": {
    "collapsed": true
   },
   "outputs": [],
   "source": [
    "labels = data[\"lig_contact\"] != \"not_displaced\"\n",
    "data.insert(1, \"category\", labels.values)\n",
    "data[\"category\"] = data.category.astype(int)"
   ]
  },
  {
   "cell_type": "code",
   "execution_count": 103,
   "metadata": {},
   "outputs": [
    {
     "data": {
      "text/html": [
       "<div>\n",
       "<style>\n",
       "    .dataframe thead tr:only-child th {\n",
       "        text-align: right;\n",
       "    }\n",
       "\n",
       "    .dataframe thead th {\n",
       "        text-align: left;\n",
       "    }\n",
       "\n",
       "    .dataframe tbody tr th {\n",
       "        vertical-align: top;\n",
       "    }\n",
       "</style>\n",
       "<table border=\"1\" class=\"dataframe\">\n",
       "  <thead>\n",
       "    <tr style=\"text-align: right;\">\n",
       "      <th></th>\n",
       "      <th>Protein</th>\n",
       "      <th>category</th>\n",
       "      <th>index</th>\n",
       "      <th>type</th>\n",
       "      <th>$x$</th>\n",
       "      <th>y</th>\n",
       "      <th>z</th>\n",
       "      <th>occ</th>\n",
       "      <th>E_sw</th>\n",
       "      <th>E_ww</th>\n",
       "      <th>...</th>\n",
       "      <th>E^nbr_ww</th>\n",
       "      <th>N^nbrs</th>\n",
       "      <th>f_enc</th>\n",
       "      <th>N^HB_sw</th>\n",
       "      <th>N^HB_ww</th>\n",
       "      <th>f^HB_ww</th>\n",
       "      <th>N^HB_ww,lost</th>\n",
       "      <th>lig_contact</th>\n",
       "      <th>t_statistic</th>\n",
       "      <th>p_value</th>\n",
       "    </tr>\n",
       "  </thead>\n",
       "  <tbody>\n",
       "    <tr>\n",
       "      <th>0</th>\n",
       "      <td>abl</td>\n",
       "      <td>0</td>\n",
       "      <td>0</td>\n",
       "      <td>C2F</td>\n",
       "      <td>-1.90</td>\n",
       "      <td>-12.30</td>\n",
       "      <td>-0.79</td>\n",
       "      <td>0.9234</td>\n",
       "      <td>-7.886070</td>\n",
       "      <td>-2.330430</td>\n",
       "      <td>...</td>\n",
       "      <td>-1.237988</td>\n",
       "      <td>2.363223</td>\n",
       "      <td>0.549862</td>\n",
       "      <td>1.595408</td>\n",
       "      <td>1.367122</td>\n",
       "      <td>57.849876</td>\n",
       "      <td>1.831040</td>\n",
       "      <td>not_displaced</td>\n",
       "      <td>39.731908</td>\n",
       "      <td>0.000000e+00</td>\n",
       "    </tr>\n",
       "    <tr>\n",
       "      <th>1</th>\n",
       "      <td>abl</td>\n",
       "      <td>0</td>\n",
       "      <td>1</td>\n",
       "      <td>C2F</td>\n",
       "      <td>-5.63</td>\n",
       "      <td>-4.61</td>\n",
       "      <td>-4.35</td>\n",
       "      <td>0.9246</td>\n",
       "      <td>-9.815779</td>\n",
       "      <td>-0.801470</td>\n",
       "      <td>...</td>\n",
       "      <td>-1.119749</td>\n",
       "      <td>2.431322</td>\n",
       "      <td>0.537030</td>\n",
       "      <td>1.587822</td>\n",
       "      <td>1.556781</td>\n",
       "      <td>64.030249</td>\n",
       "      <td>1.788310</td>\n",
       "      <td>not_displaced</td>\n",
       "      <td>57.148045</td>\n",
       "      <td>0.000000e+00</td>\n",
       "    </tr>\n",
       "    <tr>\n",
       "      <th>2</th>\n",
       "      <td>abl</td>\n",
       "      <td>1</td>\n",
       "      <td>2</td>\n",
       "      <td>C1F</td>\n",
       "      <td>-3.59</td>\n",
       "      <td>-9.44</td>\n",
       "      <td>-1.87</td>\n",
       "      <td>0.9148</td>\n",
       "      <td>-7.585982</td>\n",
       "      <td>-4.115125</td>\n",
       "      <td>...</td>\n",
       "      <td>-1.462429</td>\n",
       "      <td>2.996174</td>\n",
       "      <td>0.429581</td>\n",
       "      <td>1.879974</td>\n",
       "      <td>1.990162</td>\n",
       "      <td>66.423438</td>\n",
       "      <td>1.430505</td>\n",
       "      <td>hydrophilic</td>\n",
       "      <td>117.529066</td>\n",
       "      <td>0.000000e+00</td>\n",
       "    </tr>\n",
       "    <tr>\n",
       "      <th>3</th>\n",
       "      <td>abl</td>\n",
       "      <td>0</td>\n",
       "      <td>3</td>\n",
       "      <td>C2F</td>\n",
       "      <td>-9.49</td>\n",
       "      <td>-4.17</td>\n",
       "      <td>-5.07</td>\n",
       "      <td>0.9068</td>\n",
       "      <td>-10.545356</td>\n",
       "      <td>0.613647</td>\n",
       "      <td>...</td>\n",
       "      <td>-0.620995</td>\n",
       "      <td>3.208866</td>\n",
       "      <td>0.391129</td>\n",
       "      <td>1.483569</td>\n",
       "      <td>1.650088</td>\n",
       "      <td>51.422778</td>\n",
       "      <td>1.302460</td>\n",
       "      <td>not_displaced</td>\n",
       "      <td>21.260681</td>\n",
       "      <td>5.495392e-99</td>\n",
       "    </tr>\n",
       "    <tr>\n",
       "      <th>4</th>\n",
       "      <td>abl</td>\n",
       "      <td>0</td>\n",
       "      <td>4</td>\n",
       "      <td>P1U</td>\n",
       "      <td>1.31</td>\n",
       "      <td>-8.94</td>\n",
       "      <td>-6.30</td>\n",
       "      <td>0.8894</td>\n",
       "      <td>-4.102407</td>\n",
       "      <td>-5.039672</td>\n",
       "      <td>...</td>\n",
       "      <td>-2.175132</td>\n",
       "      <td>1.981785</td>\n",
       "      <td>0.622517</td>\n",
       "      <td>0.945919</td>\n",
       "      <td>1.753429</td>\n",
       "      <td>88.477250</td>\n",
       "      <td>2.072982</td>\n",
       "      <td>not_displaced</td>\n",
       "      <td>-22.268783</td>\n",
       "      <td>1.752911e-108</td>\n",
       "    </tr>\n",
       "  </tbody>\n",
       "</table>\n",
       "<p>5 rows × 21 columns</p>\n",
       "</div>"
      ],
      "text/plain": [
       "  Protein  category  index type   $x$      y     z     occ       E_sw  \\\n",
       "0     abl         0      0  C2F -1.90 -12.30 -0.79  0.9234  -7.886070   \n",
       "1     abl         0      1  C2F -5.63  -4.61 -4.35  0.9246  -9.815779   \n",
       "2     abl         1      2  C1F -3.59  -9.44 -1.87  0.9148  -7.585982   \n",
       "3     abl         0      3  C2F -9.49  -4.17 -5.07  0.9068 -10.545356   \n",
       "4     abl         0      4  P1U  1.31  -8.94 -6.30  0.8894  -4.102407   \n",
       "\n",
       "       E_ww      ...        E^nbr_ww    N^nbrs     f_enc   N^HB_sw   N^HB_ww  \\\n",
       "0 -2.330430      ...       -1.237988  2.363223  0.549862  1.595408  1.367122   \n",
       "1 -0.801470      ...       -1.119749  2.431322  0.537030  1.587822  1.556781   \n",
       "2 -4.115125      ...       -1.462429  2.996174  0.429581  1.879974  1.990162   \n",
       "3  0.613647      ...       -0.620995  3.208866  0.391129  1.483569  1.650088   \n",
       "4 -5.039672      ...       -2.175132  1.981785  0.622517  0.945919  1.753429   \n",
       "\n",
       "     f^HB_ww  N^HB_ww,lost    lig_contact t_statistic        p_value  \n",
       "0  57.849876      1.831040  not_displaced   39.731908   0.000000e+00  \n",
       "1  64.030249      1.788310  not_displaced   57.148045   0.000000e+00  \n",
       "2  66.423438      1.430505    hydrophilic  117.529066   0.000000e+00  \n",
       "3  51.422778      1.302460  not_displaced   21.260681   5.495392e-99  \n",
       "4  88.477250      2.072982  not_displaced  -22.268783  1.752911e-108  \n",
       "\n",
       "[5 rows x 21 columns]"
      ]
     },
     "execution_count": 103,
     "metadata": {},
     "output_type": "execute_result"
    }
   ],
   "source": [
    "data.head()"
   ]
  },
  {
   "cell_type": "code",
   "execution_count": 1,
   "metadata": {
    "collapsed": true
   },
   "outputs": [],
   "source": [
    "from sklearn.model_selection import train_test_split, cross_val_score, StratifiedKFold\n",
    "from sklearn.preprocessing import StandardScaler"
   ]
  },
  {
   "cell_type": "code",
   "execution_count": 125,
   "metadata": {
    "collapsed": true
   },
   "outputs": [],
   "source": [
    "data = data.dropna(axis=0)\n",
    "X, y = data.iloc[:, 7:-3], data.iloc[:, 1]"
   ]
  },
  {
   "cell_type": "code",
   "execution_count": 131,
   "metadata": {
    "collapsed": true
   },
   "outputs": [],
   "source": [
    "X_train, X_test, y_train, y_test = train_test_split(X, y, test_size=0.2, random_state=0, stratify=y)"
   ]
  },
  {
   "cell_type": "code",
   "execution_count": 132,
   "metadata": {
    "collapsed": true
   },
   "outputs": [],
   "source": [
    "stdsc = StandardScaler()\n",
    "X_train_std = stdsc.fit_transform(X_train)\n",
    "X_test_std = stdsc.fit_transform(X_test)"
   ]
  },
  {
   "cell_type": "code",
   "execution_count": 134,
   "metadata": {},
   "outputs": [
    {
     "data": {
      "text/plain": [
       "((173, 11), (44, 11))"
      ]
     },
     "execution_count": 134,
     "metadata": {},
     "output_type": "execute_result"
    }
   ],
   "source": [
    "X_train_std.shape, X_test.shape"
   ]
  },
  {
   "cell_type": "code",
   "execution_count": 146,
   "metadata": {
    "collapsed": true
   },
   "outputs": [],
   "source": [
    "from sklearn.linear_model import LogisticRegression\n",
    "from sklearn.metrics import roc_auc_score, roc_curve"
   ]
  },
  {
   "cell_type": "code",
   "execution_count": 147,
   "metadata": {},
   "outputs": [
    {
     "name": "stdout",
     "output_type": "stream",
     "text": [
      "[[ 0.63631811  0.36368189]\n",
      " [ 0.81934902  0.18065098]\n",
      " [ 0.47958109  0.52041891]\n",
      " [ 0.48124079  0.51875921]\n",
      " [ 0.51397856  0.48602144]\n",
      " [ 0.42167251  0.57832749]\n",
      " [ 0.60581214  0.39418786]\n",
      " [ 0.52062976  0.47937024]\n",
      " [ 0.77652965  0.22347035]\n",
      " [ 0.62836067  0.37163933]\n",
      " [ 0.77104924  0.22895076]\n",
      " [ 0.4395446   0.5604554 ]\n",
      " [ 0.55620158  0.44379842]\n",
      " [ 0.60356076  0.39643924]\n",
      " [ 0.6465952   0.3534048 ]\n",
      " [ 0.55261693  0.44738307]\n",
      " [ 0.67350815  0.32649185]\n",
      " [ 0.25961181  0.74038819]\n",
      " [ 0.4064833   0.5935167 ]\n",
      " [ 0.58798678  0.41201322]\n",
      " [ 0.52701002  0.47298998]\n",
      " [ 0.3334739   0.6665261 ]\n",
      " [ 0.39002504  0.60997496]\n",
      " [ 0.30341132  0.69658868]\n",
      " [ 0.85488878  0.14511122]\n",
      " [ 0.57769633  0.42230367]\n",
      " [ 0.29780796  0.70219204]\n",
      " [ 0.38458232  0.61541768]\n",
      " [ 0.29843152  0.70156848]\n",
      " [ 0.72359857  0.27640143]\n",
      " [ 0.38546085  0.61453915]\n",
      " [ 0.77676168  0.22323832]\n",
      " [ 0.45001278  0.54998722]\n",
      " [ 0.53133115  0.46866885]\n",
      " [ 0.59425877  0.40574123]\n",
      " [ 0.55442115  0.44557885]\n",
      " [ 0.24898551  0.75101449]\n",
      " [ 0.41761417  0.58238583]\n",
      " [ 0.26454017  0.73545983]\n",
      " [ 0.58063436  0.41936564]\n",
      " [ 0.55277675  0.44722325]\n",
      " [ 0.63202839  0.36797161]\n",
      " [ 0.22367476  0.77632524]\n",
      " [ 0.62380558  0.37619442]]\n"
     ]
    }
   ],
   "source": [
    "model = LogisticRegression(C=100.0, random_state=1)\n",
    "model.fit(X_train_std, y_train)\n",
    "model.predict(X_test_std)\n",
    "y_scores = model.predict_proba(X_test_std)\n",
    "print(y_scores)"
   ]
  },
  {
   "cell_type": "code",
   "execution_count": 151,
   "metadata": {
    "collapsed": true
   },
   "outputs": [],
   "source": [
    "fpr, tpr, thresholds = roc_curve(y_test, y_scores[:, 0]) "
   ]
  },
  {
   "cell_type": "code",
   "execution_count": 153,
   "metadata": {},
   "outputs": [
    {
     "data": {
      "text/plain": [
       "array([ 0.68965517,  0.60344828,  0.57894737])"
      ]
     },
     "execution_count": 153,
     "metadata": {},
     "output_type": "execute_result"
    }
   ],
   "source": [
    "cross_val_score(model, X_train_std, y_train, cv=3, scoring=\"accuracy\")"
   ]
  },
  {
   "cell_type": "code",
   "execution_count": null,
   "metadata": {
    "collapsed": true
   },
   "outputs": [],
   "source": [
    "kfold = StratifiedKFold(n_splits=10, shuffle=True)\n",
    "scores = []\n",
    "for train, test in kfold.split(X_tr, Y):\n",
    "    model = Sequential()\n",
    "    model.add(Dense(64, input_dim=x_train.shape[1], activation='relu'))\n",
    "    model.add(Dropout(0.5))\n",
    "    #model.add(Dense(64, activation='relu'))\n",
    "    #model.add(Dropout(0.5))\n",
    "    model.add(Dense(1, activation='sigmoid'))\n",
    "\n",
    "    model.compile(loss='binary_crossentropy',\n",
    "                  optimizer='sgd',\n",
    "                  metrics=['accuracy'])\n",
    "    model.fit(X[train], Y[train], epochs=1000, batch_size=128)\n",
    "    score = model.predict_proba(X[test])\n",
    "    scores.append((roc_auc_score(Y[test], score)))\n",
    "\n",
    "print(\"%.2f%% (+/- %.2f%%)\" % (np.mean(scores), np.std(scores)))\n",
    "\n",
    "fpr, tpr, thresholds = roc_curve(Y[test], score)\n",
    "plot_roc_curve([fpr], [tpr], \"ANNDescriptors\", [\"Descriptors\"])\n"
   ]
  }
 ],
 "metadata": {
  "kernelspec": {
   "display_name": "Python 3",
   "language": "python",
   "name": "python3"
  },
  "language_info": {
   "codemirror_mode": {
    "name": "ipython",
    "version": 3
   },
   "file_extension": ".py",
   "mimetype": "text/x-python",
   "name": "python",
   "nbconvert_exporter": "python",
   "pygments_lexer": "ipython3",
   "version": "3.6.3"
  }
 },
 "nbformat": 4,
 "nbformat_minor": 2
}
